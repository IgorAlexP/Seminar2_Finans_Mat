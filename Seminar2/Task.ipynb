{
 "cells": [
  {
   "cell_type": "markdown",
   "metadata": {},
   "source": [
    "Задача 1. Есть инвестиционный проект с денежными потоками по кварталам:\n",
    "Квартал 0 1 2 3 4 5\n",
    "денежный поток -1200 100 200 300 400 500\n",
    "Необходимо принять решение, инвестируем в проект или нет, если ставка дисконтирования 15% годовых."
   ]
  },
  {
   "cell_type": "markdown",
   "metadata": {},
   "source": [
    "Денежные потоки проекта:\n",
    "\n",
    "Квартал 0: -1200\n",
    "Квартал 1: 100\n",
    "Квартал 2: 200\n",
    "Квартал 3: 300\n",
    "Квартал 4: 400\n",
    "Квартал 5: 500\n",
    "\n",
    "Ставка дисконтирования (r) = 15% = 0.15\n",
    "\n",
    "Используем формулу NPV:\n",
    "\n",
    "NPV = Σ(CFt / (1 + r)^t)\n",
    "\n",
    "Где:\n",
    "\n",
    "CFt - денежный поток в периоде t\n",
    "r - ставка дисконтирования\n",
    "t - период времени"
   ]
  },
  {
   "cell_type": "code",
   "execution_count": 7,
   "metadata": {},
   "outputs": [
    {
     "name": "stdout",
     "output_type": "stream",
     "text": [
      "Чистая настоящая стоимость (NPV): -287.2702091855574\n"
     ]
    }
   ],
   "source": [
    "# Денежные потоки проекта\n",
    "cash_flows = [-1200, 100, 200, 300, 400, 500]\n",
    "\n",
    "# Ставка дисконтирования (в десятичной форме)\n",
    "discount_rate = 0.15\n",
    "\n",
    "# Вычисление NPV\n",
    "npv = 0\n",
    "\n",
    "for t, cash_flow in enumerate(cash_flows):\n",
    "    npv += cash_flow / (1 + discount_rate) ** t\n",
    "\n",
    "# Вывод результата\n",
    "print(\"Чистая настоящая стоимость (NPV):\", npv)\n"
   ]
  },
  {
   "cell_type": "markdown",
   "metadata": {},
   "source": [
    "При данной ставке дисконтирования проект не оправдывает инвестиции, так как NPV отрицательный."
   ]
  },
  {
   "cell_type": "markdown",
   "metadata": {},
   "source": [
    "Задача 2. Для инвестиционного проекта с денежными потоками:\n",
    "Год 0 1 2 3 4 5 6\n",
    "денежный поток -1500 100 200 300 400 500 600\n",
    "найти NPV, если первые два года ставка дисконтирования равна 20%, следующие два года она равна 15%, и затем становится 10%"
   ]
  },
  {
   "cell_type": "code",
   "execution_count": 10,
   "metadata": {},
   "outputs": [
    {
     "name": "stdout",
     "output_type": "stream",
     "text": [
      "Чистая настоящая стоимость (NPV): -145.83266176984097\n"
     ]
    }
   ],
   "source": [
    "# Денежные потоки проекта\n",
    "cash_flows = [-1500, 100, 200, 300, 400, 500, 600]\n",
    "\n",
    "# Ставки дисконтирования для каждого года\n",
    "discount_rates = [0.20, 0.20, 0.15, 0.15, 0.10, 0.10]\n",
    "\n",
    "# Вычисление NPV\n",
    "npv = 0\n",
    "\n",
    "for t, cash_flow in enumerate(cash_flows):\n",
    "    discount_rate = discount_rates[min(t, len(discount_rates) - 1)]\n",
    "    npv += cash_flow / (1 + discount_rate) ** t\n",
    "\n",
    "# Вывод результата\n",
    "print(\"Чистая настоящая стоимость (NPV):\", npv)\n"
   ]
  },
  {
   "cell_type": "markdown",
   "metadata": {},
   "source": [
    "Проект ожидается убыточным при заданных ставках дисконтирования, и инвестирование в него не рекомендуется."
   ]
  },
  {
   "cell_type": "code",
   "execution_count": 14,
   "metadata": {},
   "outputs": [
    {
     "name": "stdout",
     "output_type": "stream",
     "text": [
      "Внутренняя норма доходности (IRR): 0.08252383124190046\n"
     ]
    }
   ],
   "source": [
    "# Денежные потоки проекта\n",
    "cash_flows = [-1500, 100, 200, 300, 400, 500, 600]\n",
    "\n",
    "# Функция для вычисления NPV при заданной ставке дисконтирования и денежных потоках\n",
    "def calculate_npv(rate, cash_flows):\n",
    "    npv = 0\n",
    "    for t, cash_flow in enumerate(cash_flows):\n",
    "        npv += cash_flow / (1 + rate) ** t\n",
    "    return npv\n",
    "\n",
    "from scipy.optimize import newton\n",
    "\n",
    "# Нахождение IRR с помощью численного метода\n",
    "irr = newton(lambda r: calculate_npv(r, cash_flows), 0.10)\n",
    "\n",
    "# Вывод результата\n",
    "print(\"Внутренняя норма доходности (IRR):\", irr)\n"
   ]
  },
  {
   "cell_type": "markdown",
   "metadata": {},
   "source": [
    "Задача 4. Есть два инвестиционных проекта со следующими денежными потоками:\n",
    "Год 0 1 2 3 4 5\n",
    "Проект А -1000 100 250 450 500 550\n",
    "Проект Б -1000 200 300 400 450 500\n",
    "Если стоимость денег равна 10%, и инвестор хочет получить максимальную доходность на вложенный рубль инвестиций, то какой проект он должен выбрать?\n"
   ]
  },
  {
   "cell_type": "code",
   "execution_count": 15,
   "metadata": {},
   "outputs": [
    {
     "name": "stdout",
     "output_type": "stream",
     "text": [
      "NPV для проекта A: 318.62577692780513\n",
      "NPV для проекта B: 348.0947029201926\n",
      "Лучше выбрать проект B.\n"
     ]
    }
   ],
   "source": [
    "# Денежные потоки проекта A\n",
    "cash_flows_A = [-1000, 100, 250, 450, 500, 550]\n",
    "\n",
    "# Денежные потоки проекта B\n",
    "cash_flows_B = [-1000, 200, 300, 400, 450, 500]\n",
    "\n",
    "# Ставка дисконтирования\n",
    "discount_rate = 0.10\n",
    "\n",
    "# Функция для вычисления NPV\n",
    "def calculate_npv(cash_flows, discount_rate):\n",
    "    npv = 0\n",
    "    for t, cash_flow in enumerate(cash_flows):\n",
    "        npv += cash_flow / (1 + discount_rate) ** t\n",
    "    return npv\n",
    "\n",
    "# Вычисление NPV для проекта A\n",
    "npv_A = calculate_npv(cash_flows_A, discount_rate)\n",
    "\n",
    "# Вычисление NPV для проекта B\n",
    "npv_B = calculate_npv(cash_flows_B, discount_rate)\n",
    "\n",
    "# Вывод результатов\n",
    "print(\"NPV для проекта A:\", npv_A)\n",
    "print(\"NPV для проекта B:\", npv_B)\n",
    "\n",
    "# Определение лучшего проекта\n",
    "if npv_A > npv_B:\n",
    "    print(\"Лучше выбрать проект A.\")\n",
    "elif npv_A < npv_B:\n",
    "    print(\"Лучше выбрать проект B.\")\n",
    "else:\n",
    "    print(\"Оба проекта равнозначны с точки зрения NPV.\")\n"
   ]
  },
  {
   "cell_type": "markdown",
   "metadata": {},
   "source": [
    "Задача 5. Есть два инвестиционных проекта со следующими денежными потоками:\n",
    "Год 0 1 2 3 4 5\n",
    "Проект А -1000 100 250 450 500 550\n",
    "Проект Б -1000 200 300 400 450 500\n",
    "Инвестор хочет выбрать один из проектов по критерию ликвидности с учетом временной стоимости денег в размере 10% годовых. Какой он должен выбрать?"
   ]
  },
  {
   "cell_type": "code",
   "execution_count": 16,
   "metadata": {},
   "outputs": [
    {
     "name": "stdout",
     "output_type": "stream",
     "text": [
      "IRR для проекта A: 0.1926213095368823\n",
      "IRR для проекта B: 0.2094790066960787\n",
      "Лучше выбрать проект B (выше IRR).\n"
     ]
    }
   ],
   "source": [
    "from scipy.optimize import newton\n",
    "\n",
    "# Денежные потоки проекта A\n",
    "cash_flows_A = [-1000, 100, 250, 450, 500, 550]\n",
    "\n",
    "# Денежные потоки проекта Б\n",
    "cash_flows_B = [-1000, 200, 300, 400, 450, 500]\n",
    "\n",
    "# Ставка дисконтирования\n",
    "discount_rate = 0.10\n",
    "\n",
    "# Функция для вычисления NPV при заданной ставке дисконтирования и денежных потоках\n",
    "def calculate_npv(rate, cash_flows):\n",
    "    npv = 0\n",
    "    for t, cash_flow in enumerate(cash_flows):\n",
    "        npv += cash_flow / (1 + rate) ** t\n",
    "    return npv\n",
    "\n",
    "# Нахождение IRR с помощью численного метода для проекта A\n",
    "irr_A = newton(lambda r: calculate_npv(r, cash_flows_A), 0.10)\n",
    "\n",
    "# Нахождение IRR с помощью численного метода для проекта Б\n",
    "irr_B = newton(lambda r: calculate_npv(r, cash_flows_B), 0.10)\n",
    "\n",
    "# Вывод результатов\n",
    "print(\"IRR для проекта A:\", irr_A)\n",
    "print(\"IRR для проекта B:\", irr_B)\n",
    "\n",
    "# Определение выбора на основе IRR\n",
    "if irr_A > irr_B:\n",
    "    print(\"Лучше выбрать проект A (выше IRR).\")\n",
    "elif irr_A < irr_B:\n",
    "    print(\"Лучше выбрать проект B (выше IRR).\")\n",
    "else:\n",
    "    print(\"Оба проекта имеют одинаковую IRR.\")\n"
   ]
  }
 ],
 "metadata": {
  "kernelspec": {
   "display_name": "Python 3",
   "language": "python",
   "name": "python3"
  },
  "language_info": {
   "codemirror_mode": {
    "name": "ipython",
    "version": 3
   },
   "file_extension": ".py",
   "mimetype": "text/x-python",
   "name": "python",
   "nbconvert_exporter": "python",
   "pygments_lexer": "ipython3",
   "version": "3.10.0"
  }
 },
 "nbformat": 4,
 "nbformat_minor": 2
}
